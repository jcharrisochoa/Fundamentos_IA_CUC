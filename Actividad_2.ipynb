{
  "nbformat": 4,
  "nbformat_minor": 0,
  "metadata": {
    "colab": {
      "provenance": []
    },
    "kernelspec": {
      "name": "python3",
      "display_name": "Python 3"
    },
    "language_info": {
      "name": "python"
    }
  },
  "cells": [
    {
      "cell_type": "code",
      "execution_count": 1,
      "metadata": {
        "colab": {
          "base_uri": "https://localhost:8080/"
        },
        "id": "c4qlxXdcO17y",
        "outputId": "6de9675e-d504-4638-d58b-ba55792f3a33"
      },
      "outputs": [
        {
          "output_type": "stream",
          "name": "stdout",
          "text": [
            "La predicción para el jugador con ID 21 es: no\n",
            "\n",
            "Los vecinos más cercanos del jugador 21 son:\n",
            "  - Vecino 1: ID 18, Velocidad 7.0, Agilidad 4.25, Profesional: yes\n",
            "  - Vecino 2: ID 12, Velocidad 5.0, Agilidad 2.5, Profesional: no\n",
            "  - Vecino 3: ID 20, Velocidad 7.25, Agilidad 5.75, Profesional: yes\n",
            "  - Vecino 4: ID 10, Velocidad 4.25, Agilidad 3.75, Profesional: no\n",
            "  - Vecino 5: ID 6, Velocidad 4.5, Agilidad 5.0, Profesional: no\n",
            "\n",
            "La predicción se basa en la mayoría de votos de estos 5 vecinos.\n"
          ]
        }
      ],
      "source": [
        "import pandas as pd\n",
        "from sklearn.preprocessing import MinMaxScaler\n",
        "from sklearn.neighbors import KNeighborsClassifier\n",
        "\n",
        "def predecir_jugador_profesional_knn():\n",
        "    \"\"\"\n",
        "    Predice si el jugador con ID 21 es profesional usando el algoritmo K-Nearest Neighbors (KNN).\n",
        "    \"\"\"\n",
        "\n",
        "    # 1. Cargar los datos\n",
        "    # Los datos se organizan en un diccionario para crear un DataFrame de pandas\n",
        "    datos = {\n",
        "        'ID': [1, 2, 3, 4, 5, 6, 7, 8, 9, 10, 11, 12, 13, 14, 15, 16, 17, 18, 19, 20],\n",
        "        'Velocidad': [2.50, 3.75, 2.25, 3.25, 2.75, 4.50, 3.50, 3.00, 4.00, 4.25, 2.00, 5.00, 8.25, 5.75, 4.75, 5.50, 5.25, 7.00, 7.50, 7.25],\n",
        "        'Agilidad': [6.00, 8.00, 5.50, 8.25, 7.50, 5.00, 5.25, 3.25, 4.00, 3.75, 2.00, 2.50, 8.50, 8.75, 6.25, 6.75, 9.50, 4.25, 8.00, 5.75],\n",
        "        'Jugador_profesional': ['no', 'no', 'no', 'no', 'no', 'no', 'no', 'no', 'no', 'no', 'no', 'no', 'no', 'yes', 'yes', 'yes', 'yes', 'yes', 'yes', 'yes']\n",
        "    }\n",
        "    df = pd.DataFrame(datos)\n",
        "\n",
        "    # 2. Preparar los datos\n",
        "    # Separar las características (X) y la variable objetivo (y)\n",
        "    X = df[['Velocidad', 'Agilidad']]\n",
        "    y = df['Jugador_profesional']\n",
        "\n",
        "    # 3. Normalizar las características\n",
        "    # Usar MinMaxScaler para escalar los datos entre 0 y 1\n",
        "    scaler = MinMaxScaler()\n",
        "    X_escalado = scaler.fit_transform(X)\n",
        "\n",
        "    # 4. Entrenar el modelo KNN\n",
        "    # Se elige un valor de k (número de vecinos)\n",
        "    # Un valor común es la raíz cuadrada del número de muestras\n",
        "    k = int(len(X) ** 0.5)\n",
        "    # Asegurarse de que k sea impar para evitar empates\n",
        "    if k % 2 == 0:\n",
        "        k += 1\n",
        "\n",
        "    knn_model = KNeighborsClassifier(n_neighbors=k)\n",
        "    knn_model.fit(X_escalado, y)\n",
        "\n",
        "    # 5. Predecir para el jugador con ID 21\n",
        "    # Crear un DataFrame para el jugador 21\n",
        "    jugador21 = pd.DataFrame({\n",
        "        'Velocidad': [6.75],\n",
        "        'Agilidad': [3.00]\n",
        "    })\n",
        "\n",
        "    # Escalar los datos del jugador 21 usando el mismo escalador\n",
        "    jugador21_escalado = scaler.transform(jugador21)\n",
        "\n",
        "    # Realizar la predicción\n",
        "    prediccion = knn_model.predict(jugador21_escalado)\n",
        "\n",
        "    # Imprimir el resultado de la predicción\n",
        "    print(f'La predicción para el jugador con ID 21 es: {prediccion[0]}')\n",
        "\n",
        "    # Se pueden identificar los vecinos más cercanos para dar una explicación\n",
        "    distancias, indices = knn_model.kneighbors(jugador21_escalado)\n",
        "\n",
        "    print(\"\\nLos vecinos más cercanos del jugador 21 son:\")\n",
        "    for i, idx in enumerate(indices[0]):\n",
        "        vecino_info = df.iloc[idx]\n",
        "        print(f\"  - Vecino {i+1}: ID {vecino_info['ID']}, Velocidad {vecino_info['Velocidad']}, \"\n",
        "              f\"Agilidad {vecino_info['Agilidad']}, Profesional: {vecino_info['Jugador_profesional']}\")\n",
        "    print(f\"\\nLa predicción se basa en la mayoría de votos de estos {k} vecinos.\")\n",
        "\n",
        "# Ejecutar la función\n",
        "predecir_jugador_profesional_knn()"
      ]
    }
  ]
}